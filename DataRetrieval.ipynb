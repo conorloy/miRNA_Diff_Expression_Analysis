{
 "cells": [
  {
   "cell_type": "markdown",
   "metadata": {},
   "source": [
    "<h1><center>Data Acquisition</center></h1>\n",
    "\n",
    "This notebook deals with data acquisition from the GDC API, exploring different endpoints and filters that can be utilized to ultimatiely result in a pandas dataframe for easy manipulation. A seperate notebook, titled DataRegAlg, should be used for actual aquisition. This notebook functions to explore different endpoints, display the functionality of the GDC API and shed insight to how the code in DataRegAlg works.\n",
    "\n",
    "\n",
    "The files queried in this notebook are miRNA-seq txt files from the GDC API. Each file represents one tissue sample, with each row representing a miRNA. These files will be used for differntial expression analysis."
   ]
  },
  {
   "cell_type": "markdown",
   "metadata": {},
   "source": [
    "---"
   ]
  },
  {
   "cell_type": "markdown",
   "metadata": {},
   "source": [
    "## Import Packages\n",
    "\n",
    "This notebook will be using multiple packages to query and interpret data. Outlined below is the reason for each.\n",
    "\n",
    "| Package | Use |\n",
    "| --- | --- |\n",
    "|requests| retrieving information from the url endpoints given on the <br> [GDC API User Guide](https://docs.gdc.cancer.gov/API/Users_Guide/Getting_Started/) |\n",
    "|pandas (pd) | storage and wrangling of data in pandas.DataFrame objects |\n",
    "| json | converting the request responses into JSON format for easy use |"
   ]
  },
  {
   "cell_type": "code",
   "execution_count": 1,
   "metadata": {
    "collapsed": false
   },
   "outputs": [],
   "source": [
    "import requests\n",
    "import pandas as pd\n",
    "import json"
   ]
  },
  {
   "cell_type": "markdown",
   "metadata": {},
   "source": [
    "---"
   ]
  },
  {
   "cell_type": "markdown",
   "metadata": {},
   "source": [
    "## Work Flow\n",
    "\n",
    "\n",
    "The workflow is as follows"
   ]
  },
  {
   "cell_type": "code",
   "execution_count": null,
   "metadata": {
    "collapsed": true
   },
   "outputs": [],
   "source": []
  },
  {
   "cell_type": "markdown",
   "metadata": {},
   "source": [
    "---"
   ]
  },
  {
   "cell_type": "markdown",
   "metadata": {},
   "source": [
    "## Retrieve File Information/metadata\n",
    "\n",
    "The first step is to retrieve the information on the files pertaining to our anaysis. This information will include file UUIDs that can be used to query the GDC API for the txt file contents. To retrieve UUIDs, the **files** endpoint will be used and multiple filters will be passed, shortcutting to the **cases** endpoint for more selective filtering.\n",
    "\n",
    "\n",
    "\n",
    "#### The Following Cells:\n",
    "\n",
    "\n",
    "* Use the **files** endpoint\n",
    "\n",
    "* Shortcut to the **cases** endpoint\n",
    "\n",
    "* Utilize multiple filters: \"files.experimental_strategy\" and \"cases.project.project_id\"\n",
    "\n",
    "* Return relevant file info in JSON format"
   ]
  },
  {
   "cell_type": "code",
   "execution_count": 2,
   "metadata": {
    "collapsed": false
   },
   "outputs": [],
   "source": [
    "url=\"https://api.gdc.cancer.gov/files\"                                 # url found on the GDI website\n",
    "\n",
    "filt = {                                                               # creates dictionary of filtering parameters\n",
    "    \"op\":\"and\",\n",
    "    \"content\":[\n",
    "        {\n",
    "            \"op\":\"=\",                                                  # filters for miRNA expression Quantification..\n",
    "            \"content\":{                                                # .. which increases speed of other filtering\n",
    "                \"field\":\"files.data_type\",\n",
    "                \"value\":[\"miRNA Expression Quantification\"]\n",
    "            }\n",
    "        },\n",
    "        {\n",
    "            \"op\":\"=\",                                                  # filter for miRNA-seq information\n",
    "            \"content\":{\n",
    "                \"field\":\"files.experimental_strategy\",\n",
    "                \"value\":[\"miRNA-Seq\"]\n",
    "            }\n",
    "        },\n",
    "        {\n",
    "            \"op\":\"in\",                                                 # filter by Project title, this takes a comma seperated ..\n",
    "            \"content\":{                                                # .. list, allowing for us to input specific projects\n",
    "                \"field\":\"cases.project.project_id\",\n",
    "                \"value\":[\"TCGA-BRCA\"]\n",
    "            }\n",
    "        }\n",
    "            ]\n",
    "}\n",
    "            \n",
    "D = {\"filters\":json.dumps(filt),\n",
    "    \"size\":\"50\",\n",
    "    \"expand\": \"cases.project\",\n",
    "    \"fields\":\"file_id,file_name,cases.submitter_id,cases.samples.sample_type,data_format\"}\n",
    "\n",
    "r = requests.get(url, params=D)  \n",
    "cats=r.json()"
   ]
  },
  {
   "cell_type": "markdown",
   "metadata": {},
   "source": [
    "Below is the first file the above code retrieved. The string associated to the \"id\" key will be used with the **data** endpoint to retrieve the corresponding txt file."
   ]
  },
  {
   "cell_type": "code",
   "execution_count": 3,
   "metadata": {
    "collapsed": false
   },
   "outputs": [
    {
     "data": {
      "text/plain": [
       "{'cases': [{'project': {'dbgap_accession_number': None,\n",
       "    'disease_type': 'Breast Invasive Carcinoma',\n",
       "    'name': 'Breast Invasive Carcinoma',\n",
       "    'primary_site': 'Breast',\n",
       "    'project_id': 'TCGA-BRCA',\n",
       "    'released': True,\n",
       "    'state': 'open'},\n",
       "   'samples': [{'sample_type': 'Primary Tumor'}],\n",
       "   'submitter_id': 'TCGA-S3-AA12'}],\n",
       " 'data_format': 'TXT',\n",
       " 'file_id': 'bd5873b0-4c3c-4aba-987e-0730145d5ea1',\n",
       " 'file_name': '2596fddb-8ada-40da-95b1-e8631e9b48d1.mirbase21.mirnas.quantification.txt',\n",
       " 'id': 'bd5873b0-4c3c-4aba-987e-0730145d5ea1'}"
      ]
     },
     "execution_count": 3,
     "metadata": {},
     "output_type": "execute_result"
    }
   ],
   "source": [
    "cats['data']['hits'][0]"
   ]
  },
  {
   "cell_type": "markdown",
   "metadata": {},
   "source": [
    "---"
   ]
  },
  {
   "cell_type": "markdown",
   "metadata": {},
   "source": [
    "## Retrieve Data from list above\n",
    "\n",
    "The next step is to use the UUIDs from the previous query to retrieve file data. Information for each file must be accquired individually, thus a for-loop appears to be the proper tool for the job. Here, only one file is received.\n",
    "\n",
    "#### The Following Cells:\n",
    "\n",
    "- Use the **data** endpoint\n",
    "\n",
    "- Use a simple HTTP GET request including the file UUID (file_id)\n",
    "\n",
    "\n",
    "__Note:__ According to the GDC API Users Guide, retrieving multiple files requires a POST request. However, due to the nature of our data (relatively small size) I do not think this is necessary. I believe POST requests are required for genomic datasets for easier acquisistion without large compuational power."
   ]
  },
  {
   "cell_type": "code",
   "execution_count": 4,
   "metadata": {
    "collapsed": false
   },
   "outputs": [],
   "source": [
    "url = 'https://api.gdc.cancer.gov/data/'+'bd5873b0-4c3c-4aba-987e-0730145d5ea1'     # Add string of file UUID to url.\n",
    "\n",
    "D = {}\n",
    "\n",
    "r = requests.get(url, params=D, headers = {\"Content-Type\": \"application/json\"})  "
   ]
  },
  {
   "cell_type": "code",
   "execution_count": 5,
   "metadata": {
    "collapsed": false
   },
   "outputs": [
    {
     "data": {
      "text/plain": [
       "<Response [200]>"
      ]
     },
     "execution_count": 5,
     "metadata": {},
     "output_type": "execute_result"
    }
   ],
   "source": [
    "r"
   ]
  },
  {
   "cell_type": "markdown",
   "metadata": {},
   "source": [
    "---"
   ]
  },
  {
   "cell_type": "markdown",
   "metadata": {},
   "source": [
    "## Clean and Convert the HHTP response content into a DataFrame\n",
    "\n",
    "The contents of the request reponse come in byte format. To use the data retrieved, it must be converted to a string and each row saved as a DataFrame. The *Pandas* package will be used to store and wrangle data.\n",
    "\n",
    "\n",
    "#### The Following Cells:\n",
    "\n",
    "- Use *Pandas* DataFrames\n",
    "\n",
    "- Iterate over each row of acquired data and save it to lists for conversion to a DataFrame"
   ]
  },
  {
   "cell_type": "code",
   "execution_count": 6,
   "metadata": {
    "collapsed": false
   },
   "outputs": [],
   "source": [
    "name = []                                                                           # creates lists to append to\n",
    "readCnt = []\n",
    "readCntMil = []\n",
    "xMap = []\n",
    "\n",
    "\n",
    "b= str(r.content)[2:]                                                               # Convert bytes file to string ..\n",
    "                                                                                    # .. and remove hardcoding.\n",
    "\n",
    "c=b.split('\\\\n')                                                                    # split by rows\n",
    "\n",
    "\n",
    "for i in c[:-1]:                                                                    # iterate over every row\n",
    "    \n",
    "    d=i.split('\\\\t')                                                                # split by column      \n",
    "    \n",
    "    name.append(d[0])                                                               # append to appropriate list\n",
    "    readCnt.append(d[1])\n",
    "    readCntMil.append(d[2])\n",
    "    xMap.append(d[3])"
   ]
  },
  {
   "cell_type": "code",
   "execution_count": 7,
   "metadata": {
    "collapsed": false
   },
   "outputs": [],
   "source": [
    "# create a dictonary for conversion to pandas.DataFrame\n",
    "df_dict= {'miRNA_id':name[1:],\n",
    "          \"read_count\":readCnt[1:],\n",
    "         \"reads_per_million_miRNA_mapped\":readCntMil[1:],\n",
    "         \"cross-mapped\":xMap[1:]}"
   ]
  },
  {
   "cell_type": "code",
   "execution_count": 8,
   "metadata": {
    "collapsed": false
   },
   "outputs": [],
   "source": [
    "# create a pandas dataframe for easy manipulation and exportation\n",
    "\n",
    "df = pd.DataFrame(data=df_dict)\n",
    "\n",
    "df = df[\n",
    "    ['miRNA_id',\n",
    "          \"read_count\",\n",
    "         \"reads_per_million_miRNA_mapped\",\n",
    "         \"cross-mapped\"]\n",
    "       ]"
   ]
  },
  {
   "cell_type": "code",
   "execution_count": 9,
   "metadata": {
    "collapsed": false,
    "scrolled": true
   },
   "outputs": [
    {
     "data": {
      "text/html": [
       "<div>\n",
       "<table border=\"1\" class=\"dataframe\">\n",
       "  <thead>\n",
       "    <tr style=\"text-align: right;\">\n",
       "      <th></th>\n",
       "      <th>miRNA_id</th>\n",
       "      <th>read_count</th>\n",
       "      <th>reads_per_million_miRNA_mapped</th>\n",
       "      <th>cross-mapped</th>\n",
       "    </tr>\n",
       "  </thead>\n",
       "  <tbody>\n",
       "    <tr>\n",
       "      <th>0</th>\n",
       "      <td>hsa-let-7a-1</td>\n",
       "      <td>47975</td>\n",
       "      <td>10625.871000</td>\n",
       "      <td>N</td>\n",
       "    </tr>\n",
       "    <tr>\n",
       "      <th>1</th>\n",
       "      <td>hsa-let-7a-2</td>\n",
       "      <td>47663</td>\n",
       "      <td>10556.766847</td>\n",
       "      <td>N</td>\n",
       "    </tr>\n",
       "    <tr>\n",
       "      <th>2</th>\n",
       "      <td>hsa-let-7a-3</td>\n",
       "      <td>47888</td>\n",
       "      <td>10606.601573</td>\n",
       "      <td>N</td>\n",
       "    </tr>\n",
       "    <tr>\n",
       "      <th>3</th>\n",
       "      <td>hsa-let-7b</td>\n",
       "      <td>70374</td>\n",
       "      <td>15586.973336</td>\n",
       "      <td>N</td>\n",
       "    </tr>\n",
       "    <tr>\n",
       "      <th>4</th>\n",
       "      <td>hsa-let-7c</td>\n",
       "      <td>1652</td>\n",
       "      <td>365.897632</td>\n",
       "      <td>N</td>\n",
       "    </tr>\n",
       "  </tbody>\n",
       "</table>\n",
       "</div>"
      ],
      "text/plain": [
       "       miRNA_id read_count reads_per_million_miRNA_mapped cross-mapped\n",
       "0  hsa-let-7a-1      47975                   10625.871000            N\n",
       "1  hsa-let-7a-2      47663                   10556.766847            N\n",
       "2  hsa-let-7a-3      47888                   10606.601573            N\n",
       "3    hsa-let-7b      70374                   15586.973336            N\n",
       "4    hsa-let-7c       1652                     365.897632            N"
      ]
     },
     "execution_count": 9,
     "metadata": {},
     "output_type": "execute_result"
    }
   ],
   "source": [
    "df.head()"
   ]
  },
  {
   "cell_type": "markdown",
   "metadata": {},
   "source": [
    "---"
   ]
  },
  {
   "cell_type": "markdown",
   "metadata": {},
   "source": [
    "# Testing\n",
    "\n",
    "One important aspect of this analysis is ensuring proper sample sizes. Each file represents a sample from a specific site, ranging from tumor tissue to normal tissue. Before downloading the data and starting analysis, the counts of each sample type should be checked to ensure it is worth while.\n",
    "\n",
    "\n",
    "#### The Following Cells:\n",
    "\n",
    "- Checks for distribution of sample types\n",
    "- Uses the same protocall as original file information collection and filtering"
   ]
  },
  {
   "cell_type": "code",
   "execution_count": 13,
   "metadata": {
    "collapsed": false
   },
   "outputs": [],
   "source": [
    "url=\"https://api.gdc.cancer.gov/files\"                                 # url found on the GDI website\n",
    "\n",
    "filt = {\n",
    "    \"op\":\"and\",\n",
    "    \"content\":[\n",
    "        {\n",
    "            \"op\":\"=\",\n",
    "            \"content\":{\n",
    "                \"field\":\"files.data_type\",\n",
    "                \"value\":[\"miRNA Expression Quantification\"]\n",
    "            }\n",
    "        },\n",
    "        {\n",
    "            \"op\":\"=\",\n",
    "            \"content\":{\n",
    "                \"field\":\"files.experimental_strategy\",\n",
    "                \"value\":[\"miRNA-Seq\"]\n",
    "            }\n",
    "        },\n",
    "        {\n",
    "            \"op\":\"in\",                                                 # filter by Project title, this takes a comma seperated ..\n",
    "            \"content\":{                                                # .. list, allowing for us to input specific projects\n",
    "                \"field\":\"cases.project.project_id\",\n",
    "                \"value\":[\"TCGA-BRCA\"]\n",
    "            }\n",
    "        }\n",
    "            ]\n",
    "}\n",
    "            \n",
    "D = {\"filters\":json.dumps(filt),\n",
    "    \"size\":\"2500\",                                                   # only major difference between above. Takes all miRNA-seq\n",
    "    \"expand\": \"cases.project\",\n",
    "    \"fields\":\"file_id,file_name,cases.submitter_id,cases.samples.sample_type,data_format\"}\n",
    "r = requests.get(url, params=D)  \n",
    "cats=r.json()"
   ]
  },
  {
   "cell_type": "code",
   "execution_count": 14,
   "metadata": {
    "collapsed": false
   },
   "outputs": [],
   "source": [
    "a={}\n",
    "\n",
    "for i in range(len(cats[\"data\"][\"hits\"])):                           # iterates over all files and counts different sample type\n",
    "    \n",
    "    if cats[\"data\"][\"hits\"][i]['cases'][0]['samples'][0][\"sample_type\"] not in a.keys():\n",
    "        a[cats[\"data\"][\"hits\"][i]['cases'][0]['samples'][0][\"sample_type\"]] = 1\n",
    "        \n",
    "    else:\n",
    "        a[cats[\"data\"][\"hits\"][i]['cases'][0]['samples'][0][\"sample_type\"]] += 1"
   ]
  },
  {
   "cell_type": "code",
   "execution_count": 15,
   "metadata": {
    "collapsed": false
   },
   "outputs": [
    {
     "data": {
      "text/plain": [
       "{'Metastatic': 7, 'Primary Tumor': 1096, 'Solid Tissue Normal': 104}"
      ]
     },
     "execution_count": 15,
     "metadata": {},
     "output_type": "execute_result"
    }
   ],
   "source": [
    "a"
   ]
  },
  {
   "cell_type": "markdown",
   "metadata": {},
   "source": [
    "***"
   ]
  },
  {
   "cell_type": "markdown",
   "metadata": {},
   "source": [
    "The code from this notebook will used in DataRegAlg to create an all-in-one funtion to query data."
   ]
  },
  {
   "cell_type": "markdown",
   "metadata": {},
   "source": [
    "---"
   ]
  },
  {
   "cell_type": "markdown",
   "metadata": {},
   "source": [
    "---"
   ]
  }
 ],
 "metadata": {
  "kernelspec": {
   "display_name": "Python 3",
   "language": "python",
   "name": "python3"
  },
  "language_info": {
   "codemirror_mode": {
    "name": "ipython",
    "version": 3
   },
   "file_extension": ".py",
   "mimetype": "text/x-python",
   "name": "python",
   "nbconvert_exporter": "python",
   "pygments_lexer": "ipython3",
   "version": "3.6.0"
  }
 },
 "nbformat": 4,
 "nbformat_minor": 2
}
